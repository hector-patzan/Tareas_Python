{
 "cells": [
  {
   "cell_type": "markdown",
   "metadata": {},
   "source": [
    "### Programa 1"
   ]
  },
  {
   "cell_type": "code",
   "execution_count": 1,
   "metadata": {},
   "outputs": [
    {
     "data": {
      "text/plain": [
       "[1, 1, 1, 0, 1]"
      ]
     },
     "execution_count": 1,
     "metadata": {},
     "output_type": "execute_result"
    }
   ],
   "source": [
    "numero = int(input(\"Ingresa un numero\"))\n",
    "\n",
    "lista = []\n",
    "\n",
    "while numero != 0: \n",
    "    \n",
    "    modulo = numero % 2\n",
    "    nuevo_valor = numero // 2\n",
    "    lista.append(modulo) \n",
    "    numero = nuevo_valor \n",
    "\n",
    "lista[ : :-1]"
   ]
  },
  {
   "cell_type": "markdown",
   "metadata": {},
   "source": [
    "### Programa 2"
   ]
  },
  {
   "cell_type": "code",
   "execution_count": 2,
   "metadata": {},
   "outputs": [],
   "source": [
    "def numeros_primos(numero): #Firma de la función\n",
    "    lista = list(range(1, numero +1))\n",
    "    historia = []\n",
    "    for x in lista:\n",
    "        if ((numero / x).is_integer()):\n",
    "            historia.append(x)\n",
    "        \n",
    "    if len(historia)==2:\n",
    "        valida = True\n",
    "    else:\n",
    "        valida = False\n",
    "\n",
    "    return valida"
   ]
  },
  {
   "cell_type": "code",
   "execution_count": 4,
   "metadata": {},
   "outputs": [
    {
     "name": "stdout",
     "output_type": "stream",
     "text": [
      "Es 4 numero primo: False\n"
     ]
    }
   ],
   "source": [
    "numero = int(input(\"Ingresa un numero\"))\n",
    "\n",
    "numeros = numeros_primos(numero)\n",
    "print(f\"Es {numero} numero primo: {numeros}\")\n"
   ]
  },
  {
   "cell_type": "markdown",
   "metadata": {},
   "source": [
    "### Programa 3"
   ]
  },
  {
   "cell_type": "code",
   "execution_count": 7,
   "metadata": {},
   "outputs": [
    {
     "name": "stdout",
     "output_type": "stream",
     "text": [
      "La desviacion estandar es: 4.47213595499958\n"
     ]
    }
   ],
   "source": [
    "cant_datos = int(input(\"Ingresa la cantidad de digitos para la lista\"))\n",
    "\n",
    "x = 0\n",
    "lista_dv = []\n",
    "while x < cant_datos:\n",
    "    numero = float(input(\"Ingresa un numero\"))\n",
    "    lista_dv.append(numero)\n",
    "    x = x + 1\n",
    "\n",
    "media = sum(lista_dv) / len(lista_dv)\n",
    "\n",
    "acumulado = 0\n",
    "for x in lista_dv:\n",
    "    calculo = ((x - media))**2\n",
    "    acumulado = acumulado + calculo\n",
    "    desviacion = (acumulado / len(lista_dv))**0.5\n",
    "    \n",
    "print(f\"La desviacion estandar es: {desviacion}\")   "
   ]
  },
  {
   "cell_type": "markdown",
   "metadata": {},
   "source": [
    "### Programa 4"
   ]
  },
  {
   "cell_type": "code",
   "execution_count": 8,
   "metadata": {},
   "outputs": [
    {
     "data": {
      "text/plain": [
       "[1, 2, 6, 6, 6, 7, 8, 8]"
      ]
     },
     "execution_count": 8,
     "metadata": {},
     "output_type": "execute_result"
    }
   ],
   "source": [
    "# Funcion de ordenamiento burbuja\n",
    "def orden(lista):\n",
    "    for i in range(1,len(lista)):\n",
    "        for x in range(0,len(lista)-i):\n",
    "            if(lista[x+1] < lista[x]):\n",
    "                val=lista[x]\n",
    "                lista[x]=lista[x+1]\n",
    "                lista[x+1]=val\n",
    "    return lista\n",
    "\n",
    "\n",
    "# Función main\n",
    "def main():\n",
    "    cantidad = int(input(\"cantidad de valores a ordenar\"))\n",
    "    a=0\n",
    "    valores = []\n",
    "    while a < cantidad:\n",
    "        datos = int(input(\"ingrese un valor\"))\n",
    "        valores.append(datos)\n",
    "        a = a + 1\n",
    "    return valores\n",
    "\n",
    "# Probando ordenamiento burbuja\n",
    "orden(main())"
   ]
  },
  {
   "cell_type": "markdown",
   "metadata": {},
   "source": [
    "### Programa 5"
   ]
  },
  {
   "cell_type": "code",
   "execution_count": 9,
   "metadata": {},
   "outputs": [
    {
     "data": {
      "text/plain": [
       "'45624'"
      ]
     },
     "execution_count": 9,
     "metadata": {},
     "output_type": "execute_result"
    }
   ],
   "source": [
    "cant_tuplas = int(input(\"cantidad de valores a ordenar\"))\n",
    "\n",
    "b=0\n",
    "li_tuplas = []\n",
    "while b < cant_tuplas:\n",
    "        datos_t = input(\"ingrese un valor\")\n",
    "        li_tuplas.append(datos_t)\n",
    "        b = b + 1\n",
    "\n",
    "tuplas = tuple(li_tuplas)\n",
    "\n",
    "c = 0\n",
    "almacen = ''\n",
    "while c < len(tuplas):\n",
    "    almacen = str(almacen) + str(tuplas[c])\n",
    "    c= c + 1\n",
    "almacen"
   ]
  },
  {
   "cell_type": "markdown",
   "metadata": {},
   "source": [
    "### Programa 6"
   ]
  },
  {
   "cell_type": "code",
   "execution_count": 10,
   "metadata": {},
   "outputs": [
    {
     "data": {
      "text/plain": [
       "[('X',), ('a', 'b'), ('a', 'b', 'c'), 'd']"
      ]
     },
     "execution_count": 10,
     "metadata": {},
     "output_type": "execute_result"
    }
   ],
   "source": [
    "lista_tuplas = [(), (), ('X',), ('a', 'b'), ('a', 'b', 'c'), ('d')]\n",
    "\n",
    "d=0\n",
    "while d < len(lista_tuplas):\n",
    "    if lista_tuplas[d]==():\n",
    "        lista_tuplas.pop(d)\n",
    "        d = 0\n",
    "    else:\n",
    "        d = d+1\n",
    "\n",
    "\n",
    "lista_tuplas"
   ]
  },
  {
   "cell_type": "markdown",
   "metadata": {},
   "source": [
    "### Programa 7"
   ]
  },
  {
   "cell_type": "code",
   "execution_count": 11,
   "metadata": {},
   "outputs": [],
   "source": [
    "def promedio_tuplas (tupla_prom):\n",
    "    e = 0\n",
    "    calc_prom = []\n",
    "    while e < len(tupla_prom):\n",
    "        calc_prom.append(sum(tupla_prom[e]) / len(tupla_prom[e]))\n",
    "        resultado = tuple(calc_prom)\n",
    "        e = e + 1\n",
    "    return resultado\n"
   ]
  },
  {
   "cell_type": "code",
   "execution_count": 12,
   "metadata": {},
   "outputs": [
    {
     "data": {
      "text/plain": [
       "(10.5, 44.0, 58.0)"
      ]
     },
     "execution_count": 12,
     "metadata": {},
     "output_type": "execute_result"
    }
   ],
   "source": [
    "tuplas_ejercicio7 =  ((10, 10, 10, 12), (30, 45, 56, 45), (81, 80, 39, 32))\n",
    "promedio_tuplas(tuplas_ejercicio7)"
   ]
  }
 ],
 "metadata": {
  "interpreter": {
   "hash": "43d77f26943b72a9d2a8ebfd43b79f6ff4df049da70206944cebd13ea852aa88"
  },
  "kernelspec": {
   "display_name": "Python 3.8.8 ('base')",
   "language": "python",
   "name": "python3"
  },
  "language_info": {
   "codemirror_mode": {
    "name": "ipython",
    "version": 3
   },
   "file_extension": ".py",
   "mimetype": "text/x-python",
   "name": "python",
   "nbconvert_exporter": "python",
   "pygments_lexer": "ipython3",
   "version": "3.8.8"
  },
  "orig_nbformat": 4
 },
 "nbformat": 4,
 "nbformat_minor": 2
}
